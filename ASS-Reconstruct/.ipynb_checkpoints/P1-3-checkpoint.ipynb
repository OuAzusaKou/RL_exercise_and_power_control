{
 "cells": [
  {
   "cell_type": "code",
   "execution_count": 11,
   "metadata": {},
   "outputs": [],
   "source": [
    "from collections import defaultdict\n",
    "import numpy as np\n",
    "import sys\n",
    "from enum import Enum\n",
    "class ACTION(Enum):\n",
    "    high=1\n",
    "    low=0 \n",
    "    \n",
    "class Winner:\n",
    "    def __init__(self):\n",
    "        self.P_H = 0.55\n",
    "        self.P_L = 0.45\n",
    "        self.state = 0\n",
    "        self.done = 0\n",
    "        self.R = 0\n",
    "        self.highcost = -50\n",
    "        self.lowcost = -10\n",
    "        self.greedy = 0.1\n",
    "        self.discount=0.9\n",
    "        self.init_Q()\n",
    "        self.init_C()\n",
    "    def reset_game(self):\n",
    "        self.state=0\n",
    "        self.done=0\n",
    "    def ba_policy(self):\n",
    "        smp = np.random.uniform(0,1)\n",
    "        if smp <= 0.5:\n",
    "            ac = ACTION.high\n",
    "        else:\n",
    "            ac = ACTION.low\n",
    "        return ac\n",
    "        \n",
    "    #def ta_policy(self):\n",
    "    def OffpolicyMCControl(self,numepisode):\n",
    "        self.init_Q()\n",
    "        self.init_C()\n",
    "        for i_episode in range(1, numepisode+1):\n",
    "            if i_episode % 1000 == 0:\n",
    "                print(\"\\rEpisode {}/{}.\".format(i_episode, numepisode), end=\"\")\n",
    "                sys.stdout.flush()\n",
    "            \n",
    "            self.reset_game()\n",
    "            state=0\n",
    "            episode = []\n",
    "            while(1):\n",
    "                action = self.ba_policy()\n",
    "                reward,next_state,done = self.env_step(state,action)\n",
    "                episode.append((state, action, reward))\n",
    "                if done:\n",
    "                    break\n",
    "                state = next_state\n",
    "            G = 0.0\n",
    "            Weight = 1.0\n",
    "            for t in reversed(range(len(episode))):\n",
    "                state, action, reward = episode[t]\n",
    "                G = self.discount * G + reward\n",
    "                self.C[state,action] += Weight\n",
    "                self.Q[state,action] += (Weight / self.C[state,action]) * (G - self.Q[state,action])\n",
    "                if action==ACTION.high:\n",
    "                    if self.Q[state,action]<self.Q[state,ACTION.low]:\n",
    "                        break\n",
    "                else:\n",
    "                    if self.Q[state,action]<self.Q[state,ACTION.high]:\n",
    "                        break\n",
    "                Weight = Weight*(2.0)\n",
    "                        \n",
    "            \n",
    "           \n",
    "        return self.Q\n",
    "        \n",
    "        \n",
    "    def env_step(self,state,action):\n",
    "        done=0\n",
    "        reward=0\n",
    "        sample = np.random.uniform(0, 1)\n",
    "        if action == ACTION.high:\n",
    "            reward = reward + self.highcost\n",
    "            suc_prob = self.P_H\n",
    "        else:\n",
    "            suc_prob = self.P_L\n",
    "            reward = reward + self.lowcost\n",
    "        if sample < suc_prob:\n",
    "            state = state + 1\n",
    "        else:\n",
    "            state = state -1\n",
    "        if state >= 3 :\n",
    "            reward = reward + 1000\n",
    "            done = 1\n",
    "        if state <= (-3):\n",
    "            done = 1\n",
    "        return reward,state,done\n",
    "    def init_Q(self):\n",
    "        self.Q = defaultdict(lambda:np.zeros(1))\n",
    "        for state in range(7):\n",
    "            for act in ACTION:\n",
    "                    self.Q[state-3,act]=0.0\n",
    "    def init_C(self):\n",
    "        \n",
    "        self.C = defaultdict(lambda:np.zeros(1))\n",
    "        for state in range(7):\n",
    "            for act in ACTION:\n",
    "                    self.C[state-3,act]=0.0\n",
    "        "
   ]
  },
  {
   "cell_type": "code",
   "execution_count": 12,
   "metadata": {},
   "outputs": [
    {
     "name": "stdout",
     "output_type": "stream",
     "text": [
      "Episode 500000/500000.policy_value defaultdict(<function Winner.init_Q.<locals>.<lambda> at 0x7fb713da7d08>, {(-3, <ACTION.high: 1>): 0.0, (-3, <ACTION.low: 0>): 0.0, (-2, <ACTION.high: 1>): 17.583798075838683, (-2, <ACTION.low: 0>): 17.810997352385566, (-1, <ACTION.high: 1>): 65.84355809863679, (-1, <ACTION.low: 0>): 70.39907297422798, (0, <ACTION.high: 1>): 163.61450835715664, (0, <ACTION.low: 0>): 182.96928145221253, (1, <ACTION.high: 1>): 380.9943940624883, (1, <ACTION.low: 0>): 390.95698478699984, (2, <ACTION.high: 1>): 695.0501575546086, (2, <ACTION.low: 0>): 680.8403577318917, (3, <ACTION.high: 1>): 0.0, (3, <ACTION.low: 0>): 0.0})\n"
     ]
    }
   ],
   "source": [
    "winner=Winner()\n",
    "\n",
    "Q=winner.OffpolicyMCControl(500000)\n",
    "print('policy_value',Q)\n"
   ]
  },
  {
   "cell_type": "code",
   "execution_count": 13,
   "metadata": {},
   "outputs": [
    {
     "name": "stdout",
     "output_type": "stream",
     "text": [
      "            0           1\n",
      "0    0.000000    0.000000\n",
      "1   17.810997   17.583798\n",
      "2   70.399073   65.843558\n",
      "3  182.969281  163.614508\n",
      "4  390.956985  380.994394\n",
      "5  680.840358  695.050158\n",
      "6    0.000000    0.000000\n"
     ]
    }
   ],
   "source": [
    "import pandas as pd\n",
    "buf = np.zeros((7,2))\n",
    "for i in range(7):\n",
    "    for j in ACTION:\n",
    "        buf[i][j.value]=Q[i-3,j]\n",
    "\n",
    "test_3 = pd.DataFrame(buf)\n",
    "print(test_3)"
   ]
  },
  {
   "cell_type": "code",
   "execution_count": null,
   "metadata": {},
   "outputs": [],
   "source": []
  }
 ],
 "metadata": {
  "kernelspec": {
   "display_name": "Python 3",
   "language": "python",
   "name": "python3"
  },
  "language_info": {
   "codemirror_mode": {
    "name": "ipython",
    "version": 3
   },
   "file_extension": ".py",
   "mimetype": "text/x-python",
   "name": "python",
   "nbconvert_exporter": "python",
   "pygments_lexer": "ipython3",
   "version": "3.7.0"
  }
 },
 "nbformat": 4,
 "nbformat_minor": 2
}
